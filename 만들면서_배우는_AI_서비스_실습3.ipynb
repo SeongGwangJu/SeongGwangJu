{
  "nbformat": 4,
  "nbformat_minor": 0,
  "metadata": {
    "colab": {
      "provenance": [],
      "include_colab_link": true
    },
    "kernelspec": {
      "name": "python3",
      "display_name": "Python 3"
    },
    "language_info": {
      "name": "python"
    }
  },
  "cells": [
    {
      "cell_type": "markdown",
      "metadata": {
        "id": "view-in-github",
        "colab_type": "text"
      },
      "source": [
        "<a href=\"https://colab.research.google.com/github/SeongGwangJu/SeongGwangJu/blob/main/%EB%A7%8C%EB%93%A4%EB%A9%B4%EC%84%9C_%EB%B0%B0%EC%9A%B0%EB%8A%94_AI_%EC%84%9C%EB%B9%84%EC%8A%A4_%EC%8B%A4%EC%8A%B53.ipynb\" target=\"_parent\"><img src=\"https://colab.research.google.com/assets/colab-badge.svg\" alt=\"Open In Colab\"/></a>"
      ]
    },
    {
      "cell_type": "markdown",
      "source": [
        "### 패키지 설치\n",
        "Langchain, Google-genai 패키지를 설치합니다."
      ],
      "metadata": {
        "id": "1GsT6TenzG6M"
      }
    },
    {
      "cell_type": "code",
      "execution_count": null,
      "metadata": {
        "id": "Uug9_l2UzAYa",
        "outputId": "fea2c848-3195-4302-de17-215b869adb99",
        "colab": {
          "base_uri": "https://localhost:8080/"
        }
      },
      "outputs": [
        {
          "output_type": "stream",
          "name": "stdout",
          "text": [
            "\u001b[2K     \u001b[90m━━━━━━━━━━━━━━━━━━━━━━━━━━━━━━━━━━━━━━━━\u001b[0m \u001b[32m41.6/41.6 kB\u001b[0m \u001b[31m1.4 MB/s\u001b[0m eta \u001b[36m0:00:00\u001b[0m\n",
            "\u001b[2K   \u001b[90m━━━━━━━━━━━━━━━━━━━━━━━━━━━━━━━━━━━━━━━━\u001b[0m \u001b[32m9.1/9.1 MB\u001b[0m \u001b[31m62.2 MB/s\u001b[0m eta \u001b[36m0:00:00\u001b[0m\n",
            "\u001b[2K   \u001b[90m━━━━━━━━━━━━━━━━━━━━━━━━━━━━━━━━━━━━━━━━\u001b[0m \u001b[32m278.4/278.4 kB\u001b[0m \u001b[31m21.7 MB/s\u001b[0m eta \u001b[36m0:00:00\u001b[0m\n",
            "\u001b[?25h"
          ]
        }
      ],
      "source": [
        "!pip install google-adk -q\n",
        "!pip install litellm -q"
      ]
    },
    {
      "cell_type": "markdown",
      "source": [
        "### API 키 등록\n",
        "Gemini API를 사용하기 위해서 Google_API_Key를 불러옵니다.\n",
        "Colab 왼쪽 패널의 `보안 비밀`, `Gemini API 키`, `Google AI Studio에서 키 가져오기`를 선택해 키를 불러옵니다."
      ],
      "metadata": {
        "id": "WKDE2d5XzMSL"
      }
    },
    {
      "cell_type": "code",
      "source": [
        "from google.colab import userdata\n",
        "import os\n",
        "\n",
        "# Secrets에 저장된 값을 가져옵니다.\n",
        "my_api_key = userdata.get('GOOGLE_API_KEY')\n",
        "\n",
        "# os.getenv()를 사용하는 라이브러리와의 호환을 위해 os.environ에 설정해줍니다.\n",
        "os.environ['GOOGLE_API_KEY'] = my_api_key\n",
        "\n",
        "# 이제 os.getenv()로 값을 읽을 수 있습니다.\n",
        "retrieved_key = os.getenv('GOOGLE_API_KEY')\n",
        "print(\"키를 성공적으로 불러왔습니다.\")"
      ],
      "metadata": {
        "colab": {
          "base_uri": "https://localhost:8080/"
        },
        "id": "_EDa4ZVRzLOn",
        "outputId": "559c686a-7d20-415c-d34c-f3671700092e"
      },
      "execution_count": null,
      "outputs": [
        {
          "output_type": "stream",
          "name": "stdout",
          "text": [
            "키를 성공적으로 불러왔습니다.\n"
          ]
        }
      ]
    },
    {
      "cell_type": "markdown",
      "source": [
        "# Google ADK\n",
        "google adk를 활용해 에이전트를 만들어 보겠습니다.\n",
        "우선, 매우 간단한 에이전트를 선언해 봅시다.\n",
        "\n",
        "앞서 LangChain과 유사하게 model, prompt를 작성하고 Agent 객체에 넣어 선언합니다.\n",
        "\n",
        "또한 Tool도 선언하고 사용해봅시다."
      ],
      "metadata": {
        "id": "YYarlnPikfx8"
      }
    },
    {
      "cell_type": "markdown",
      "source": [
        "### Instruction (prompt) 정의\n",
        "앞서 진행했던 실습과 비슷하게 프롬프트를 먼저 정의합니다.    \n",
        "프롬프트는 사용할 툴에 대한 설명이 포함되어야 합니다.    \n",
        "프롬프트가 달라지면, Agent 객체에 넣는 tools도 바뀌어야 합니다.    \n",
        "\n",
        "가령 아래의 `researcher_instruction`를 사용하면 `google_search` 툴을 활용해야 하고,   \n",
        "`news_anchor_instruction`를 사용하면 `get_todays_news` 툴을 활용해야 합니다."
      ],
      "metadata": {
        "id": "HplRcXC1OYR2"
      }
    },
    {
      "cell_type": "code",
      "source": [
        "researcher_instruction = \"\"\"You are a research agent.\n",
        "Your task is to perform thorough research on a given topic using the available tools.\n",
        "1. Use the 'google_search' tool to find relevant information.\n",
        "2. Synthesize the findings to answer the user's query comprehensively.\n",
        "3. If no information is found, inform the user clearly.\"\"\"\n",
        "\n",
        "\n",
        "news_anchor_instruction = \"\"\"당신은 사용자에게 매일의 소식을 전달하는 'AI 뉴스 앵커'입니다.\n",
        "당신의 유일한 임무는 사용자가 '오늘 뉴스'에 대해 물어보면, 사용 가능한 도구를 활용하여 오늘의 주요 뉴스를 명확하고 전문적인 톤으로 브리핑하는 것입니다.\n",
        "\n",
        "**업무 절차:**\n",
        "1.  사용자가 '오늘 뉴스', '무슨 일 있었어?' 등 오늘 소식을 묻는 질문을 하면, 절대로 당신의 내부 지식으로 답변해서는 안 됩니다. 반드시 `get_todays_news` 툴을 호출해야 합니다.\n",
        "2.  `get_todays_news` 툴로부터 뉴스 리포트를 성공적으로 받으면, 당신은 실제 뉴스 앵커가 되어야 합니다.\n",
        "3.  \"안녕하세요, 2025년 9월 19일 오늘의 뉴스를 전해드립니다.\"와 같은 인사말로 브리핑을 시작하세요.\n",
        "4.  툴이 전달해준 리포트의 내용을 바탕으로, 사용자가 이해하기 쉽게 정리하여 뉴스를 전달하세요.\n",
        "5.  만약 툴이 에러를 반환하거나 뉴스를 가져올 수 없는 경우, \"죄송합니다, 현재 오늘의 뉴스 브리핑을 이용할 수 없습니다.\"라고 정중하게 사용자에게 알려주세요.\n",
        "\"\"\""
      ],
      "metadata": {
        "id": "Xc5mxijhMXQ5"
      },
      "execution_count": null,
      "outputs": []
    },
    {
      "cell_type": "markdown",
      "source": [
        "### Tool 정의\n",
        "커스텀 툴을 함수 형태로 정의합니다.   \n",
        "툴의 desc는 LLM이 적절한 순간에 호출할 수 있게 기능을 자세하게 작성해주어야 합니다."
      ],
      "metadata": {
        "id": "t_5PtsuZPKJb"
      }
    },
    {
      "cell_type": "code",
      "source": [
        "def get_todays_news() -> dict:\n",
        "    \"\"\"\n",
        "    Returns a static summary of currnt news.\n",
        "\n",
        "    Returns:\n",
        "        dict: A dictionary containing the status and the news report.\n",
        "    \"\"\"\n",
        "    # 툴의 기능을 구현합니다 ⭐ 커스텀 툴을 작성하고, 테스트 해보세요!\n",
        "    news_summary = \"\"\"\n",
        "- [시사] 류지헌님이 영국의 새로운 왕으로 즉위하였습니다.\n",
        "- [기술] 김갑열 이사님이 전재산을 투자해 LLM을 만들기로 결정하셨습니다\n",
        "- [사회] 장원석님이 부산시장으로 추대되었습니다.\n",
        "\"\"\"\n",
        "    report = f\"--- 2025년 9월 19일 오늘의 주요 뉴스 ---\\n{news_summary}\"\n",
        "\n",
        "    return {\"status\": \"success\", \"report\": report}"
      ],
      "metadata": {
        "id": "t_5Nj7XVLAWQ"
      },
      "execution_count": null,
      "outputs": []
    },
    {
      "cell_type": "markdown",
      "source": [
        "### Agent 정의\n",
        "Agent 객체에 적절한 Instruction과 tool을 넣어줍니다."
      ],
      "metadata": {
        "id": "mTkoPXXIPel0"
      }
    },
    {
      "cell_type": "code",
      "source": [
        "from google.adk.agents import Agent\n",
        "from google.adk.tools import google_search\n",
        "from google.generativeai import GenerativeModel\n",
        "\n",
        "# AI 모델 정의\n",
        "model = \"gemini-2.5-flash\" # ⭐ 모델을 바꾸어서 테스트 해보세요!\n",
        "\n",
        "\n",
        "# 에이전트 생성\n",
        "research_agent = Agent(\n",
        "    name=\"Rsearch_Agent\",\n",
        "    model=model,\n",
        "    instruction=news_anchor_instruction,  # ⭐ Instruction(prompt)를 바꿔서 테스트 해보세요!   news_anchor_instruction, researcher_instruction 를 바꿔서 테스트 해보세요\n",
        "    tools=[get_todays_news]               # ⭐ Instruction이 달라지면 호출하는 Tool도 달라져야 합니다. researcher_instruction를 사용할때는 \"google_search\" 툴을 활용하세요.\n",
        ")"
      ],
      "metadata": {
        "id": "ZZYHuvWtgnEo"
      },
      "execution_count": null,
      "outputs": []
    },
    {
      "cell_type": "code",
      "source": [
        "# 위의 에이전트와 다른 케이스 입니다.\n",
        "\n",
        "# AI 모델 정의\n",
        "model = \"gemini-2.5-flash\" # ⭐ 모델을 바꾸어서 테스트 해보세요!\n",
        "\n",
        "# 에이전트의 행동을 정의하는 프롬프트\n",
        "researcher_instruction = \"\"\"You are a research agent.\n",
        "Your task is to perform thorough research on a given topic using the available tools.\n",
        "1. Use the 'google_search' tool to find relevant information.\n",
        "2. Synthesize the findings to answer the user's query comprehensively.\n",
        "3. If no information is found, inform the user clearly.\"\"\"\n",
        "\n",
        "# 에이전트 생성\n",
        "research_agent = Agent(\n",
        "    name=\"Rsearch_Agent\",\n",
        "    model=model,\n",
        "    instruction=news_anchor_instruction,  # ⭐ Instruction(prompt)를 바꿔서 테스트 해보세요!   news_anchor_instruction, researcher_instruction 를 바꿔서 테스트 해보세요\n",
        "    tools=[get_todays_news]               # ⭐ Instruction이 달라지면 호출하는 Tool도 달라져야 합니다.\n",
        ")"
      ],
      "metadata": {
        "id": "v714tRI1OLRm"
      },
      "execution_count": null,
      "outputs": []
    },
    {
      "cell_type": "markdown",
      "source": [
        "필요한 라이브러리를 import 합니다.\n",
        "\n",
        "`InMemorySessionService`: 에이전트와의 대화 기록(세션)을 메모리에 저장하는 서비스입니다. 이 서비스는 대화 상태를 관리하여 에이전트가 이전 대화의 맥락을 기억하도록 돕습니다.\n",
        "\n",
        "`Runner`: 에이전트 워크플로우를 실행하는 핵심 클래스입니다. 에이전트, 툴, 세션을 연결하여 사용자의 입력을 받고 에이전트의 응답을 반환하는 역할을 합니다.\n",
        "\n"
      ],
      "metadata": {
        "id": "BSe38igrlRkn"
      }
    },
    {
      "cell_type": "code",
      "source": [
        "import asyncio\n",
        "from google.adk.sessions import InMemorySessionService\n",
        "from google.adk.runners import Runner\n",
        "from google.genai import types\n",
        "\n",
        "import warnings\n",
        "# Ignore all warnings\n",
        "warnings.filterwarnings(\"ignore\")\n",
        "\n",
        "import logging\n",
        "logging.basicConfig(level=logging.ERROR)\n",
        "\n",
        "print(\"Libraries imported.\")"
      ],
      "metadata": {
        "colab": {
          "base_uri": "https://localhost:8080/"
        },
        "id": "SGY6eCiQlQaH",
        "outputId": "e4a17f55-4760-40e0-feff-50b953be1ec2"
      },
      "execution_count": null,
      "outputs": [
        {
          "output_type": "stream",
          "name": "stdout",
          "text": [
            "Libraries imported.\n"
          ]
        }
      ]
    },
    {
      "cell_type": "markdown",
      "source": [
        "리서치 에이전트에서 사용할 상수들을 정의합니다."
      ],
      "metadata": {
        "id": "hWC5rf9pl48y"
      }
    },
    {
      "cell_type": "code",
      "source": [
        "APP_NAME = \"Research agent\"\n",
        "USER_ID = \"user_11\"\n",
        "SESSION_ID = \"session_0011\""
      ],
      "metadata": {
        "id": "6b2NzOEhl4Bh"
      },
      "execution_count": null,
      "outputs": []
    },
    {
      "cell_type": "markdown",
      "source": [
        "## Session\n",
        "\n",
        "`InMemorySessionService`는 대화 기록을 관리하는 서비스입니다.\n",
        "\n",
        "이 코드는 에이전트와 주고받을 모든 메시지를 컴퓨터의 **메모리(RAM)**에 저장하는 서비스 객체를 만듭니다.\n",
        "\n",
        "`InMemory`라는 이름에서 알 수 있듯이, 이 세션은 프로그램이 종료되면 모든 데이터가 사라집니다.\n",
        "\n",
        "```python\n",
        "session = await session_service.create_session(...)\n",
        "```\n",
        "`create_session` 메서드를 호출하여 실제 세션(session) 객체를 생성합니다.\n",
        "\n",
        "이때 app_name, user_id, session_id와 같은 고유 식별자를 제공하여, 나중에 특정 세션의 대화 기록을 다시 불러오거나 관리할 수 있습니다."
      ],
      "metadata": {
        "id": "l8wq5IMhmbzO"
      }
    },
    {
      "cell_type": "code",
      "source": [
        "session_service = InMemorySessionService()\n",
        "\n",
        "session = await session_service.create_session(\n",
        "    app_name=APP_NAME,\n",
        "    user_id=USER_ID,\n",
        "    session_id=SESSION_ID\n",
        ")\n",
        "print(f\"Session created: App='{APP_NAME}', User='{USER_ID}', Session='{SESSION_ID}'\")"
      ],
      "metadata": {
        "colab": {
          "base_uri": "https://localhost:8080/"
        },
        "id": "D_Ujidqrg3J-",
        "outputId": "bcb85e0e-ea0e-4c12-bb9c-fac573c0f582"
      },
      "execution_count": null,
      "outputs": [
        {
          "output_type": "stream",
          "name": "stdout",
          "text": [
            "Session created: App='Research agent', User='user_11', Session='session_0011'\n"
          ]
        }
      ]
    },
    {
      "cell_type": "markdown",
      "source": [
        "## Runner\n",
        "\n",
        "Runner 클래스는 에이전트 워크플로우를 실행하는 핵심 엔진입니다.\n"
      ],
      "metadata": {
        "id": "3wVPZvqPm8bI"
      }
    },
    {
      "cell_type": "code",
      "source": [
        "runner = Runner(\n",
        "    agent=research_agent, # Runner가 실행할 에이전트 객체\n",
        "    app_name=APP_NAME,   # 에이전트 실행을 특정 애플리케이션(APP_NAME)과 연결\n",
        "    session_service=session_service # 에이전트가 대화 기록을 저장하고 불러올 수 있도록, 세션 서비스(InMemorySessionService) 객체 연결\n",
        ")\n",
        "print(f\"Runner created for agent '{runner.agent.name}'.\")"
      ],
      "metadata": {
        "colab": {
          "base_uri": "https://localhost:8080/"
        },
        "id": "2xjyXwlVmFWE",
        "outputId": "05b5a76c-4698-45f4-ad98-90a96ee0e966"
      },
      "execution_count": null,
      "outputs": [
        {
          "output_type": "stream",
          "name": "stdout",
          "text": [
            "Runner created for agent 'Rsearch_Agent'.\n"
          ]
        }
      ]
    },
    {
      "cell_type": "markdown",
      "source": [
        "# Event 확인하기\n",
        "\n",
        "runner는 run_async 를 통해 Event 객체를 생성합니다."
      ],
      "metadata": {
        "id": "DfngFZkcpveX"
      }
    },
    {
      "cell_type": "code",
      "source": [
        "async def call_agent_async(query: str, runner, user_id, session_id):\n",
        "    \"\"\"에이전트에게 쿼리를 보내고 최종 응답을 출력합니다.\"\"\"\n",
        "    print(f\"\\n>>> 사용자 쿼리: {query}\")\n",
        "\n",
        "    # 사용자의 쿼리를 Content 객체로 만듭니다.\n",
        "    content = types.Content(role='user', parts=[types.Part(text=query)])\n",
        "\n",
        "    # 응답이 없을 경우 기본 응답 메시지\n",
        "    final_response_text = \"에이전트가 최종 응답을 생성하지 않았습니다.\"\n",
        "\n",
        "    # run_async는 에이전트 로직을 실행하고 일련의 이벤트(Event)를 생성합니다.\n",
        "    # 이벤트를 순회하며 최종 응답을 찾게 됩니다.\n",
        "    async for event in runner.run_async(user_id=user_id, session_id=session_id, new_message=content):\n",
        "\n",
        "        # Event에서 어떤 작업이 일어나는지 확인할 수 있습니다.\n",
        "        print(f\"  [Event] author: {event.author}, Type: {type(event).__name__}, Response: {event.is_final_response()}, Content: {event.content}\")\n",
        "\n",
        "\n",
        "        # 에이전트가 내놓는 여러 중간 과정(이벤트)들 중에서 \"최종 결론\"에 해당하는 것을 찾아내고,\n",
        "        # 그 결론이 '성공적인 답변'인지 아니면 '오류 보고'인지를 판단하여 처리하는 부분입니다.\n",
        "\n",
        "        if event.is_final_response():\n",
        "            if event.content and event.content.parts:\n",
        "                # 첫 번째 파트(part)에 텍스트 응답이 있다고 가정합니다.\n",
        "                final_response_text = event.content.parts[0].text\n",
        "\n",
        "\n",
        "            elif event.actions and event.actions.escalate: # 에이전트가 작업을 수행하다가 해결할 수 없는 경우입니다.\n",
        "                final_response_text = f\"Agent 오류 발생: {event.error_message or '특정 메시지 없음.'}\"\n",
        "\n",
        "\n",
        "            # 최종 응답을 찾으면 이벤트 처리를 중단합니다.\n",
        "            break\n",
        "\n",
        "    print(f\"<<< 에이전트 응답: {final_response_text}\")"
      ],
      "metadata": {
        "id": "F7cscV8uhzyG"
      },
      "execution_count": null,
      "outputs": []
    },
    {
      "cell_type": "code",
      "source": [
        "async def run_conversation(query):\n",
        "    await call_agent_async(query,\n",
        "                           runner=runner,\n",
        "                           user_id=USER_ID,\n",
        "                           session_id=SESSION_ID)\n",
        "\n",
        "await run_conversation(\"오늘자 뉴스를 알려줘\")"
      ],
      "metadata": {
        "colab": {
          "base_uri": "https://localhost:8080/"
        },
        "id": "uogG30hjiFpA",
        "outputId": "1a5b7e10-8a00-49e4-d48d-c89ee3de6050"
      },
      "execution_count": null,
      "outputs": [
        {
          "output_type": "stream",
          "name": "stdout",
          "text": [
            "\n",
            ">>> 사용자 쿼리: 오늘자 뉴스를 알려줘\n"
          ]
        },
        {
          "output_type": "stream",
          "name": "stderr",
          "text": [
            "WARNING:google_genai.types:Warning: there are non-text parts in the response: ['thought_signature', 'function_call'], returning concatenated text result from text parts. Check the full candidates.content.parts accessor to get the full model response.\n"
          ]
        },
        {
          "output_type": "stream",
          "name": "stdout",
          "text": [
            "  [Event] author: Rsearch_Agent, Type: Event, Response: False, Content: parts=[Part(\n",
            "  function_call=FunctionCall(\n",
            "    args={},\n",
            "    id='adk-c2083d75-99b9-4194-addc-8278d403b78c',\n",
            "    name='get_todays_news'\n",
            "  ),\n",
            "  thought_signature=b\"\\n\\x8b\\x02\\x01\\xd1\\xed\\x8ao\\x9d\\x08\\xffE\\x95\\xb6'\\x91\\n8K\\x8ba\\x98\\xac&\\xbe\\x80\\x8ea$\\x97Y\\x1f\\xc6AnI\\xdc\\xd0\\x06\\xd8hmI\\x880\\x87\\x80\\x05WCJ\\xc4\\x89<K\\x95\\xcfc\\x81]O\\x15$\\xb00\\x03\\x17\\x19\\x9dr\\xb5\\xc9g\\x00\\xbd\\xcc\\xe0j{\\x06\\xdc\\x01-)\\xecI\\xa3njb\\x17\\xba\\xe9\\xcc(\\xbd\\x87...'\n",
            ")] role='model'\n",
            "  [Event] author: Rsearch_Agent, Type: Event, Response: False, Content: parts=[Part(\n",
            "  function_response=FunctionResponse(\n",
            "    id='adk-c2083d75-99b9-4194-addc-8278d403b78c',\n",
            "    name='get_todays_news',\n",
            "    response={\n",
            "      'report': \"\"\"--- 2025년 9월 19일 오늘의 주요 뉴스 ---\n",
            "\n",
            "- [시사] 류지헌님이 영국의 새로운 왕으로 즉위하였습니다. \n",
            "- [기술] 김갑열 이사님이 전재산을 투자해 LLM을 만들기로 결정하셨습니다\n",
            "- [사회] 장원석님이 부산시장으로 추대되었습니다. \n",
            "\"\"\",\n",
            "      'status': 'success'\n",
            "    }\n",
            "  )\n",
            ")] role='user'\n",
            "  [Event] author: Rsearch_Agent, Type: Event, Response: True, Content: parts=[Part(\n",
            "  text=\"\"\"안녕하세요, 2025년 9월 19일 오늘의 뉴스를 전해드립니다.\n",
            "\n",
            "오늘의 주요 소식입니다.\n",
            "\n",
            "먼저 시사 분야에서는 류지헌 님이 영국의 새로운 왕으로 즉위하셨다는 소식이 있습니다.\n",
            "\n",
            "다음으로 기술 분야에서는 김갑열 이사님이 전 재산을 투자하여 LLM(대규모 언어 모델)을 만들기로 결정하셨다는 소식이 전해졌습니다.\n",
            "\n",
            "마지막으로 사회 분야에서는 장원석 님이 부산시장으로 추대되었다는 소식입니다.\n",
            "\n",
            "이상으로 2025년 9월 19일 오늘의 주요 뉴스를 마치겠습니다.\"\"\"\n",
            ")] role='model'\n",
            "<<< 에이전트 응답: 안녕하세요, 2025년 9월 19일 오늘의 뉴스를 전해드립니다.\n",
            "\n",
            "오늘의 주요 소식입니다.\n",
            "\n",
            "먼저 시사 분야에서는 류지헌 님이 영국의 새로운 왕으로 즉위하셨다는 소식이 있습니다.\n",
            "\n",
            "다음으로 기술 분야에서는 김갑열 이사님이 전 재산을 투자하여 LLM(대규모 언어 모델)을 만들기로 결정하셨다는 소식이 전해졌습니다.\n",
            "\n",
            "마지막으로 사회 분야에서는 장원석 님이 부산시장으로 추대되었다는 소식입니다.\n",
            "\n",
            "이상으로 2025년 9월 19일 오늘의 주요 뉴스를 마치겠습니다.\n"
          ]
        }
      ]
    },
    {
      "cell_type": "markdown",
      "source": [
        "# Deep Research Agent"
      ],
      "metadata": {
        "id": "3bwnv4GrsnjO"
      }
    },
    {
      "cell_type": "markdown",
      "source": [
        "![image.png](data:image/png;base64,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)"
      ],
      "metadata": {
        "id": "J0S51pCrW_zz"
      }
    },
    {
      "cell_type": "markdown",
      "source": [
        "Deep Research 시스템은 총 4개의 핵심 에이전트로 구성되어 있습니다.   \n",
        "**Deep Research Coordinator** : 계획, 검색, 보고서 생성 에이전트를 순서대로 호출하여 전체 연구 과정을 지휘하고 조율하는 총괄 지휘자 역할을 합니다.\n",
        "\n",
        "**Planning Agent** : 사용자의 연구 질문을 받아, 3개의 구체적인 검색 쿼리로 구성된 실행 가능한 연구 계획을 수립하는 기획자 역할을 합니다.\n",
        "\n",
        "**Search Execute Agent** : 수립된 연구 계획에 따라 3개의 검색 쿼리를 실제로 실행하고, 그 결과와 출처 정보를 수집하는 정보 수집가 역할을 합니다.\n",
        "\n",
        "**Report Generator Agent** : 수집된 모든 정보와 연구 계획을 종합하여, 사용자의 질문에 대한 최종 분석과 출처가 포함된 보고서를 작성하는 최종 보고서 작성자 역할을 합니다."
      ],
      "metadata": {
        "id": "87r0qBXuXFvs"
      }
    },
    {
      "cell_type": "markdown",
      "source": [
        "우선 필요한 라이브러리와 상수들을 정의하겠습니다."
      ],
      "metadata": {
        "id": "SuEbdfQeX-tZ"
      }
    },
    {
      "cell_type": "code",
      "source": [
        "from google.adk.tools.agent_tool import AgentTool\n",
        "from google.adk.tools import google_search\n",
        "from google.adk.agents import LoopAgent, LlmAgent, SequentialAgent, Agent\n",
        "from google.adk.runners import InMemoryRunner\n",
        "from google.adk.tools.tool_context import ToolContext\n",
        "from google.adk.events import EventActions\n",
        "from typing import Optional\n",
        "import asyncio\n",
        "from google.adk.sessions import InMemorySessionService\n",
        "from google.adk.runners import Runner\n",
        "from google.genai import types\n",
        "\n",
        "MODEL = \"gemini-2.5-flash\""
      ],
      "metadata": {
        "id": "Z0IfRdqtYDpJ"
      },
      "execution_count": null,
      "outputs": []
    },
    {
      "cell_type": "markdown",
      "source": [
        "# Step 1.\n",
        "사용할 필수 딥리서치 에이전트들을 정의합니다.\n",
        "\n",
        "## Planning Agent\n",
        "이 에이전트는 사용자의 연구 쿼리를 입력받아, 해당 주제를 효과적으로 조사하기 위한 3개의 구체적인 검색 쿼리로 구성된 연구 계획을 수립합니다."
      ],
      "metadata": {
        "id": "GS2RtUhkYp1E"
      }
    },
    {
      "cell_type": "code",
      "source": [
        "PLANNING_PROMPT = \"\"\"\n",
        "Role: You are a Research Strategy Planner.\n",
        "\n",
        "Input: Research query from user: {research_query}\n",
        "\n",
        "Task: Create a focused research strategy with exactly 3 targeted search queries.\n",
        "\n",
        "Requirements:\n",
        "- Analyze the research query to identify key aspects that need investigation\n",
        "- Design 3 complementary search queries that together provide comprehensive coverage\n",
        "- Each query should target different angles or components of the topic\n",
        "- Queries should be specific enough to yield high-quality, relevant results\n",
        "- Avoid redundancy between queries\n",
        "\n",
        "Output Format:\n",
        "Research Plan for: [Original Query]\n",
        "\n",
        "Search Strategy:\n",
        "1. Query 1: [Specific search terms] - [Brief rationale]\n",
        "2. Query 2: [Specific search terms] - [Brief rationale]\n",
        "3. Query 3: [Specific search terms] - [Brief rationale]\n",
        "\n",
        "Expected Coverage: [Brief summary of what these 3 searches should collectively reveal]\n",
        "\n",
        "Keep output concise - total length should not exceed 200 words.\n",
        "\"\"\"\n",
        "\n",
        "\n",
        "planning_agent = Agent(\n",
        "    model=MODEL,\n",
        "    name=\"planning_agent\",\n",
        "    instruction=PLANNING_PROMPT,\n",
        "    output_key=\"research_plan\",\n",
        ")"
      ],
      "metadata": {
        "id": "9SvCMVuNYgfj"
      },
      "execution_count": null,
      "outputs": []
    },
    {
      "cell_type": "markdown",
      "source": [
        "## Search Execution Agent\n",
        "이 에이전트는 이전에 수립된 연구 계획(research_plan)에 따라 3개의 검색 쿼리를 Google Search 툴로 실행하고, 그 결과와 출처 URL을 종합하여 보고합니다."
      ],
      "metadata": {
        "id": "apjhFkFyZx0i"
      }
    },
    {
      "cell_type": "code",
      "source": [
        "SEARCH_EXECUTE_PROMPT = \"\"\"\n",
        "Role: You are a Search Execution Specialist.\n",
        "\n",
        "Input: Three strategic search queries: {research_plan}\n",
        "\n",
        "Task: Execute exactly 3 searches using the provided queries and consolidate results.\n",
        "\n",
        "Instructions:\n",
        "1. Execute Search 1: Use google_search tool with first query\n",
        "2. Execute Search 2: Use google_search tool with second query\n",
        "3. Execute Search 3: Use google_search tool with third query\n",
        "\n",
        "For each search:\n",
        "- Collect and analyze the most relevant results\n",
        "- Extract key information, facts, and insights\n",
        "- Note source URLs and publication details for citation\n",
        "\n",
        "Output Requirements:\n",
        "Present consolidated findings organized as:\n",
        "\n",
        "Search Results Summary:\n",
        "\n",
        "Query 1 Results: [Key findings from search 1]\n",
        "- Sources: [List URLs/sources found]\n",
        "\n",
        "Query 2 Results: [Key findings from search 2]\n",
        "- Sources: [List URLs/sources found]\n",
        "\n",
        "Query 3 Results: [Key findings from search 3]\n",
        "- Sources: [List URLs/sources found]\n",
        "\n",
        "Key Insights: [Brief synthesis of major findings across all searches]\n",
        "\n",
        "CRITICAL: Preserve all source URLs and publication details for proper citation in final report.\n",
        "Keep individual search result summaries concise (50-75 words each).\n",
        "\"\"\"\n",
        "\n",
        "search_execute_agent = Agent(\n",
        "    model=MODEL,\n",
        "    name=\"search_execute_agent\",\n",
        "    instruction=SEARCH_EXECUTE_PROMPT,\n",
        "    output_key=\"search_results\",\n",
        "    tools=[google_search],\n",
        ")"
      ],
      "metadata": {
        "id": "wdkttnDmY38u"
      },
      "execution_count": null,
      "outputs": []
    },
    {
      "cell_type": "markdown",
      "source": [
        "## Report Generator Agent\n",
        "이 에이전트는 최초 쿼리, 연구 계획, 검색 결과를 모두 종합하여, 핵심 분석과 인용을 위한 전체 출처 목록이 포함된 최종 연구 보고서를 생성합니다."
      ],
      "metadata": {
        "id": "hQe_T5pOa0Gv"
      }
    },
    {
      "cell_type": "code",
      "source": [
        "REPORT_GENERATOR_PROMPT = \"\"\"\n",
        "Role: You are a Research Report Generator.\n",
        "\n",
        "Inputs:\n",
        "- Original Query: {research_query}\n",
        "- Research Plan: {research_plan}\n",
        "- Search Results: {search_results}\n",
        "\n",
        "Task: Create a comprehensive but concise research report with proper citations.\n",
        "\n",
        "Report Structure:\n",
        "1. Executive Summary (2-3 sentences)\n",
        "2. Key Findings (3-4 main points with supporting details)\n",
        "3. Analysis (Brief synthesis and implications)\n",
        "4. Sources (Complete citation list)\n",
        "\n",
        "Requirements:\n",
        "- Keep total report length under 400 words\n",
        "- Include specific facts and data points from searches\n",
        "- Maintain objective, informative tone\n",
        "- CRITICAL: Include complete source citations at the end\n",
        "- Use clear, professional formatting\n",
        "\n",
        "Citation Format:\n",
        "Sources:\n",
        "1. [Title/Description] - [URL]\n",
        "2. [Title/Description] - [URL]\n",
        "[Continue for all sources found during searches]\n",
        "\n",
        "Focus on delivering actionable insights while ensuring all claims are properly attributed to sources.\n",
        "The sources section is mandatory and must include all URLs discovered during the search phase.\n",
        "\"\"\"\n",
        "\n",
        "report_generator_agent = Agent(\n",
        "    model=MODEL,\n",
        "    name=\"report_generator_agent\",\n",
        "    instruction=REPORT_GENERATOR_PROMPT,\n",
        "    output_key=\"final_report\",\n",
        ")"
      ],
      "metadata": {
        "id": "MrpxB1GFazbn"
      },
      "execution_count": null,
      "outputs": []
    },
    {
      "cell_type": "markdown",
      "source": [
        "### Deep Research Coordinator Agent\n",
        "\n",
        "이 에이전트는 계획, 검색, 보고서 작성을 담당하는 다른 전문 에이전트들을 순차적으로 호출하여 사용자의 연구 요청을 처음부터 끝까지 총괄하고 조율하는 역할을 합니다."
      ],
      "metadata": {
        "id": "yaaEHxfXbzBF"
      }
    },
    {
      "cell_type": "code",
      "source": [
        "DEEP_RESEARCH_COORDINATOR_PROMPT = \"\"\"\n",
        "System Role: You are an AI Deep Research Coordinator. Your function is to conduct comprehensive research\n",
        "on user queries through strategic planning, targeted information gathering, and detailed reporting with proper citations.\n",
        "\n",
        "Workflow:\n",
        "1. Initiation:\n",
        "   - Greet the user and ask for their research topic or question\n",
        "   - Confirm the scope and focus of their inquiry\n",
        "\n",
        "2. Research Planning (Using planning_agent):\n",
        "   - Inform user you will create a research plan\n",
        "   - Action: Invoke the planning_agent\n",
        "   - Input: User's research query\n",
        "   - Expected Output: Strategic research plan with 3 specific search queries\n",
        "   - Present the plan to user under heading \"Research Strategy\"\n",
        "\n",
        "3. Execute Searches (Using search_execute_agent):\n",
        "   - Inform user you will now gather information using the planned approach\n",
        "   - Action: Invoke the search_execute_agent\n",
        "   - Input: The 3 search queries from planning phase\n",
        "   - Expected Output: Consolidated search results from 3 targeted searches\n",
        "   - Brief status update to user about information gathered\n",
        "\n",
        "4. Generate Report (Using report_generator_agent):\n",
        "   - Inform user you will synthesize findings into a comprehensive report\n",
        "   - Action: Invoke the report_generator_agent\n",
        "   - Inputs: Original query, research plan, and all gathered information\n",
        "   - Expected Output: Final research report with proper source citations\n",
        "   - Present complete report under heading \"Research Report\"\n",
        "\n",
        "5. Conclusion:\n",
        "   - Ask if user needs clarification on any findings or wants to explore related topics\n",
        "\"\"\"\n",
        "\n",
        "deep_research_coordinator = Agent(\n",
        "    name=\"deep_research_coordinator\",\n",
        "    model=MODEL,\n",
        "    description=(\n",
        "        \"Coordinating comprehensive research on user queries through \"\n",
        "        \"strategic planning, targeted searches, and detailed reporting \"\n",
        "        \"with proper source citations\"\n",
        "    ),\n",
        "    instruction=DEEP_RESEARCH_COORDINATOR_PROMPT,\n",
        "    output_key=\"research_query\",\n",
        "    tools=[\n",
        "        AgentTool(agent=planning_agent),\n",
        "        AgentTool(agent=search_execute_agent),\n",
        "        AgentTool(agent=report_generator_agent),\n",
        "    ],\n",
        ")\n",
        "\n",
        "root_agent = deep_research_coordinator"
      ],
      "metadata": {
        "id": "EVO_AUlAbr11"
      },
      "execution_count": null,
      "outputs": []
    },
    {
      "cell_type": "markdown",
      "source": [
        "# Step 3.\n",
        "상수를 정의하고, 에이전트를 실행합니다."
      ],
      "metadata": {
        "id": "cDKSWyYEc79S"
      }
    },
    {
      "cell_type": "code",
      "source": [
        "# 상수 정의\n",
        "APP_NAME = \"Deep Research agent\"\n",
        "USER_ID = \"user_2\"\n",
        "SESSION_ID = \"session_2\"\n",
        "\n",
        "\n",
        "# 세션 정의\n",
        "session_service = InMemorySessionService()\n",
        "\n",
        "session = await session_service.create_session(\n",
        "    app_name=APP_NAME,\n",
        "    user_id=USER_ID,\n",
        "    session_id=SESSION_ID,\n",
        ")\n",
        "print(f\"Session created: App='{APP_NAME}', User='{USER_ID}', Session='{SESSION_ID}'\")\n",
        "\n",
        "\n",
        "# 러너 정의\n",
        "runner = Runner(\n",
        "    agent=root_agent, # Runner가 실행할 에이전트 객체\n",
        "    app_name=APP_NAME,   # 에이전트 실행을 특정 애플리케이션(APP_NAME)과 연결\n",
        "    session_service=session_service, # 에이전트가 대화 기록을 저장하고 불러올 수 있도록, 세션 서비스(InMemorySessionService) 객체 연결\n",
        ")\n",
        "print(f\"Runner created for agent '{runner.agent.name}'.\")"
      ],
      "metadata": {
        "colab": {
          "base_uri": "https://localhost:8080/"
        },
        "id": "IiNC7qledhy9",
        "outputId": "954d437e-5e75-4c50-bf07-dfe85abe93aa"
      },
      "execution_count": null,
      "outputs": [
        {
          "output_type": "stream",
          "name": "stdout",
          "text": [
            "Session created: App='Deep Research agent', User='user_2', Session='session_2'\n",
            "Runner created for agent 'deep_research_coordinator'.\n"
          ]
        }
      ]
    },
    {
      "cell_type": "code",
      "source": [
        "async def run_and_observe_async(query: str, runner, user_id, session_id):\n",
        "    \"\"\"에이전트 팀의 전체 실행을 관찰하고 최종 결과를 출력합니다.\"\"\"\n",
        "    print(f\"\\n>>> User Query: {query}\")\n",
        "    print(\"-\" * 30)\n",
        "\n",
        "    # 사용자 메시지 준비\n",
        "    content = types.Content(role='user', parts=[types.Part(text=query)])\n",
        "\n",
        "    # 전체 이벤트 스트림을 순회하며 과정을 지켜봅니다. (break 없음!)\n",
        "    async for event in runner.run_async(user_id=user_id, session_id=session_id, new_message=content):\n",
        "        # 어떤 에이전트가 어떤 내용을 출력하는지 중간 과정을 모두 확인합니다.\n",
        "        if event.content and event.content.parts:\n",
        "            # 최종 응답이 아닌 중간 결과물도 출력\n",
        "            agent_response = event.content.parts[0].text\n",
        "            print(f\"  [Event] Author: {event.author}\\n  [Content] {agent_response}\\n\")\n",
        "\n",
        "    # 모든 실행이 끝난 후, 세션의 최종 상태를 확인합니다.\n",
        "    final_session = await runner.session_service.get_session(\n",
        "        app_name=runner.app_name,\n",
        "        user_id=user_id,\n",
        "        session_id=session_id\n",
        "    )\n",
        "\n",
        "    # 마지막 SynthesizerAgent가 'final_report' 키에 저장한 최종 보고서를 가져옵니다.\n",
        "    final_report = final_session.state.get(\"final_report\", \"최종 보고서가 생성되지 않았습니다.\")\n",
        "\n",
        "    print(\"-\" * 30)\n",
        "    print(f\"<<< Final Report:\\n{final_report}\")"
      ],
      "metadata": {
        "id": "T7dIshUWe8UF"
      },
      "execution_count": null,
      "outputs": []
    },
    {
      "cell_type": "code",
      "source": [
        "async def run_conversation(query):\n",
        "    await run_and_observe_async(query,\n",
        "                           runner=runner,\n",
        "                           user_id=USER_ID,\n",
        "                           session_id=SESSION_ID)\n",
        "\n",
        "await run_conversation(\"우중충한 날씨에 부산지역 사람들이 많이 먹는 메뉴에 대한 연구를 진행해줘\")"
      ],
      "metadata": {
        "colab": {
          "base_uri": "https://localhost:8080/"
        },
        "id": "NVuaCdMqc2i7",
        "outputId": "bd2c6883-6e96-401b-e024-4a6429fe2df8"
      },
      "execution_count": null,
      "outputs": [
        {
          "output_type": "stream",
          "name": "stdout",
          "text": [
            "\n",
            ">>> User Query: 우중충한 날씨에 부산지역 사람들이 많이 먹는 메뉴에 대한 연구를 진행해줘\n",
            "------------------------------\n"
          ]
        },
        {
          "output_type": "stream",
          "name": "stderr",
          "text": [
            "WARNING:google_genai.types:Warning: there are non-text parts in the response: ['thought_signature', 'function_call'], returning concatenated text result from text parts. Check the full candidates.content.parts accessor to get the full model response.\n"
          ]
        },
        {
          "output_type": "stream",
          "name": "stdout",
          "text": [
            "  [Event] Author: deep_research_coordinator\n",
            "  [Content] 네, 우중충한 날씨에 부산 지역 사람들이 많이 먹는 메뉴에 대한 연구를 진행하겠습니다.\n",
            "\n",
            "먼저, 이 연구를 위한 전략적인 계획을 수립하겠습니다. 잠시만 기다려 주십시오.\n",
            "\n",
            "\n",
            "\n",
            "  [Event] Author: deep_research_coordinator\n",
            "  [Content] None\n",
            "\n"
          ]
        },
        {
          "output_type": "stream",
          "name": "stderr",
          "text": [
            "WARNING:google_genai.types:Warning: there are non-text parts in the response: ['function_call'], returning concatenated text result from text parts. Check the full candidates.content.parts accessor to get the full model response.\n"
          ]
        },
        {
          "output_type": "stream",
          "name": "stdout",
          "text": [
            "  [Event] Author: deep_research_coordinator\n",
            "  [Content] Research Strategy\n",
            "\n",
            "Research Plan for: 우중충한 날씨에 부산지역 사람들이 많이 먹는 메뉴\n",
            "\n",
            "Search Strategy:\n",
            "1. Query 1: 부산 비오는날 인기 메뉴 추천 - 직접적으로 부산에서 비오는 날 선호되는 일반적인 메뉴들을 파악합니다.\n",
            "2. Query 2: 부산 우중충한 날씨 따뜻한 음식 해산물 국물 요리 - 날씨와 관련된 특정 음식 유형(따뜻함, 국물, 부산 특성인 해산물)에 초점을 맞춰 상세한 메뉴군을 탐색합니다.\n",
            "3. Query 3: 부산 현지인 비오는날 맛집 포장마차 배달 - 부산 현지인들의 실제 소비 패턴(식당, 포장마차, 배달)과 선호하는 장소를 통해 구체적인 인기 메뉴와 트렌드를 알아봅니다.\n",
            "\n",
            "Expected Coverage: 이 세 가지 검색은 부산에서 우중충한 날씨에 사람들이 즐겨 찾는 메뉴의 종류, 선호하는 음식 유형, 그리고 실제 소비가 이루어지는 장소나 방식을 종합적으로 파악하여 포괄적인 연구 결과를 제공할 것입니다.\n",
            "\n",
            "이제 이 계획에 따라 정보를 수집하겠습니다. 잠시만 기다려 주십시오.\n",
            "\n",
            "\n",
            "  [Event] Author: deep_research_coordinator\n",
            "  [Content] None\n",
            "\n"
          ]
        },
        {
          "output_type": "stream",
          "name": "stderr",
          "text": [
            "WARNING:google_genai.types:Warning: there are non-text parts in the response: ['function_call'], returning concatenated text result from text parts. Check the full candidates.content.parts accessor to get the full model response.\n"
          ]
        },
        {
          "output_type": "stream",
          "name": "stdout",
          "text": [
            "  [Event] Author: deep_research_coordinator\n",
            "  [Content] 정보 수집이 완료되었습니다. 우중충한 날씨에 부산 사람들이 즐겨 찾는 메뉴에 대한 많은 정보를 얻었습니다.\n",
            "\n",
            "이제 수집된 정보를 바탕으로 종합적인 연구 보고서를 작성하겠습니다. 잠시만 기다려 주십시오.\n",
            "\n",
            "\n",
            "  [Event] Author: deep_research_coordinator\n",
            "  [Content] None\n",
            "\n",
            "  [Event] Author: deep_research_coordinator\n",
            "  [Content] ## Research Report\n",
            "\n",
            "### 1. Executive Summary\n",
            "\n",
            "우중충한 날씨에 부산지역 주민들은 따뜻하고 편안함을 주는 음식을 선호하며, 특히 '전'과 '막걸리'의 조합이 고전적인 인기를 누립니다. 신선한 해산물을 활용한 국물 요리와 돼지국밥 같은 든든한 식사류도 사랑받으며, 포장마차와 같은 현지 식당 및 배달 서비스를 통해 이러한 메뉴를 즐기는 경향이 두드러집니다.\n",
            "\n",
            "### 2. Key Findings\n",
            "\n",
            "*   **전(Korean Pancakes)과 막걸리(Rice Wine)의 고전적 인기:** 비 오는 날 부산에서 가장 추천되는 조합은 '전'과 '막걸리'입니다. 범일빈대떡, 소문난동래파전 같은 전문점이 특히 유명하며, 비 오는 날의 분위기와 잘 어울려 많은 사람이 찾습니다 (아던트뉴스, 2024; 훈똘뱅이, 2021).\n",
            "*   **따뜻한 해산물 국물 요리 및 든든한 탕류 선호:** 부산의 풍부한 해산물을 활용한 따뜻하고 시원한 국물 요리가 우중충한 날씨에 큰 인기를 얻습니다. 조개, 게, 문어, 새우 등 다양한 해산물이 들어간 '해물탕'은 몸을 덥히고 기운을 북돋아주는 음식으로 각광받으며, '해물 칼국수'와 '돼지국밥' 역시 따뜻하고 든든한 한 끼 식사로 선호됩니다 (SBSstory, 2022; 맛상무, 2021; Korean Food Yummy, 2019).\n",
            "*   **현지인들의 포장마차 및 동네 맛집 방문:** 부산 현지인들은 비 오는 날 서면 포장마차 거리나 자갈치 시장 포장마차 골목을 찾아 '꼼장어' 등 다양한 안주와 신선한 해산물을 즐깁니다. 용호동의 '다락국밥'처럼 합리적인 가격의 동네 국밥집도 현지인들에게 인기 있는 선택지입니다 (택제이, 2023; Sulpoleon, 2021; 맛있겠다 Yummy, 2024).\n",
            "*   **다양한 배달 옵션 활용:** 이러한 인기 메뉴들은 식당 방문 외에도 배달 서비스를 통해 쉽게 접할 수 있어, 집에서 편안하게 즐기려는 수요도 높습니다 (청년맹호, 2023; 한방TV, 2020).\n",
            "\n",
            "### 3. Analysis\n",
            "\n",
            "부산 사람들의 우중충한 날씨 메뉴 선택은 따뜻함, 편안함, 그리고 부산의 지역적 특색을 반영합니다. '전'과 '막걸리'는 비 오는 날의 정취를 더하는 심리적 위안을 제공하며, 신선한 해산물을 활용한 국물 요리들은 차가운 날씨에 몸을 녹이고 활력을 불어넣는 역할을 합니다. 또한, 포장마차나 동네 식당에서의 식사는 단순한 끼니를 넘어 지역 문화와 공동체적 경험을 공유하는 중요한 수단으로 작용합니다.\n",
            "\n",
            "### 4. Sources\n",
            "\n",
            "1.  아던트뉴스, 부산 서면 비오는날 맛집 BEST 10, - https://vertexaisearch.cloud.google.com/grounding-api-redirect/AUZIYQEi0VDayiJVmmo70bzfgI-UftI5CycCqMVEXGh45emYMaQH41ucXyXVRdVpLR1Fs5csgMClrczj8qQL36exmpjuzbwmU5hkUJvs1E_rBaj5vOCShqqlByAAsWr9O8N3IcDhNYMcjVq_b7_zXmebo5ObBDI0gWm2yQ==\n",
            "2.  YouTube, 훈똘뱅이, 비오는날 막걸리에 파전! 부산 해운대 파전 맛집!, - https://vertexaisearch.cloud.google.com/grounding-api-redirect/AUZIYQEWp9m5bWCjvllcWOb87Y7-CVaP_1I6ymu6NJYdAoC_rEcuVSKtH_qgiTL5TmQT3pgeR2u1kc_spD-xR-YjGYOn4RlHMsgKD8CAm7cAkjKC5J2duQjqkyJRSDr8Ze6p-HOrdZQyw==\n",
            "3.  네이버 포스트, 부산 비 오는 날 추천하는 '부산 맛집' 리스트, - https://vertexaisearch.cloud.google.com/grounding-api-redirect/AUZIYQEE8b01eSERH8O_6x5C0JVO02XCBGe47iDu_PRmrRn2NAt_wVRRRrisFacJGicAz2fJNtI_zcEVrDialUu269ZWlijN-IfZAQ0xA9_3EDavQdanKnfMcbd8yY22Gr1pZ1pNCtFznsCv6Y4qo2_FlvJzT6CGj76PRCSDM4jazOdNwD5IylVdxTlNH8s8CQTPmFD1aHUGqq6v9Wn9_aG3Sd9SrA92WpNCfOJEXI0fbdnJyHHpSZGb9oCTy1MuMBnHZ-7D4Lz6gPLxfIADZBp_mmf77b-YuD0ptXKh6VndOc62yVMC-XU=\n",
            "4.  다이닝코드, 부산서면 비오는날 맛집 Top100, - https://vertexaisearch.cloud.google.com/grounding-api-redirect/AUZIYQHWOaEEIJoH0sdW-dG7rjRyVwJG9F-m2QQvo_JsRLQk8Z17zLAlkiRYG-7g2Si0c2-4ewZ_Wwlbclx1SH0twgxA6WatSzBo_BqA3hge420bneEGWtKsV6k_IX4MvxJs5xZL4-25g3YkKtEoVxieDW6ssoGo6IHgBFdlEkDEYx2O1j2U0GYwOT61FKsb2P5komNSlZ8Srx3iq_Q0dT0e1bq5INagBAeK3ddhYabvU7I=\n",
            "5.  YouTube, SBSstory, 우중충한 날엔 이만한 게 없지👍 칼칼한 국물에 술 한 잔 [다시 보는 해물찜&탕 맛집], - https://vertexaisearch.cloud.google.com/grounding-api-redirect/AUZIYQF3K_nHir1pvDxQGy1pnx_JWMOHobeNdfqfT6EVojF34U2jftS61mx0c4c-3AkvgTu9C-kMjtwRY2AhCCrjHhPWgrCHoKCrT_RtAE8Xr5BF7t1iFiVG19Ufbr9Q1YCNqJqeTU4uTw==\n",
            "6.  YouTube, SBSstory, 쌀쌀한 날씨에 딱 어울리는 칼칼하고 시원한 국물 요리! [해물탕&해물찜 맛집 다시 보기], - https://vertexaisearch.cloud.google.com/grounding-api-redirect/AUZIYQF9T0x2iE7KuNrgozJV0UNUkVouBu-8orid3tIQdIPnyWWG6M37EENY7CGbDmwv2V7yV9Zzrws5iwwD-1OcgYivTEAp_y2PRilrF3R0GMnJP1lNsEKdEcyNQ45FvFTn0X2WdvNduA==\n",
            "7.  YouTube, 맛상무, 부산 서면 최고 맛집으로 손꼽히는 해물칼국수집! #해물칼국수 #칼국수, - https://vertexaisearch.cloud.google.com/grounding-api-redirect/AUZIYQEnCH67IptVXPBoblhglSOy2nMGCOsDsjNCiX-1vQnOPGooHuHGenqVl30U2N_Uo-RPMOxIE9G1WR3LahZjyCubGPN6ZGUh1gECcH0oaCbd3HW9i6Yp3b87aCTdhu-6VUmH9v-MWg==\n",
            "8.  YouTube, Korean Food Yummy, [Eng Sub] 부산 돼지국밥! Pork and Rice Soup is very popular in Busan, South Korea. - https://vertexaisearch.cloud.google.com/grounding-api-redirect/AUZIYQGclaLF4o0c0azFXFq5ffTOeHN906EBP9akx3Gp3xLnAPKLGaFLoHW5HB0-TqpK-4uop6Bihv5SRZXKB3PMKdIHOi8VV20xB4lfSEGRXmtEHb-kLZDJGQ3bd_hEaAMoSKsoGLaBTw==\n",
            "9.  YouTube, 택제이, 부산 영도 현지인만 아는 포차 다 알려드립니다! 사장님 여기 해물라면 하나 주세요! [택제이 부산여행], - https://vertexaisearch.cloud.google.com/grounding-api-redirect/AUZIYQH8IQL1WRN9SUE0w9o1yXyPpMKr6P8Ga2KVKLCWc8HtezHIxrqxTa81SWfwy96NdORsFbra1E35tUBAiJrchkUk8ZjhW7HMAIZH92qn4Gtz2rIu-Ri3TpOzzM3AWy6Lel5ofUNQyw==\n",
            "10. YouTube, Sulpoleon, 부산 여행 왔다가 현지인에게 속아 버린 부산 영도 포장마차 찐 로컬맛집, - https://vertexaisearch.cloud.google.com/grounding-api-redirect/AUZIYQEuI8on_WZ7Vu7KNW5IANNQDnrl3Ym9e85pJqfhmebowukdxAZONjlGEBB35lD_FYv4YWk2Eq3trX8ORwNXh3EWy3zYyk9DW4VxHIjcBepLVDFkAN0tObjXLDYiYMhgVq_39KnTDg==\n",
            "11. 다이닝코드, 부산 포장마차 맛집 Top100, - https://vertexaisearch.cloud.google.com/grounding-api-redirect/AUZIYQElANMdJ0LOj_TE-l15bYC08l6ZF4RtoTz9XtqEWm2_GkCKYhKxZ6jrZvZb_S4wqJm2kXaeIDORXOLq77kpeY1prAjErZY8-uMzabrx2s22wMSkfXASF_J4nVyc10snxGi7w1Ngsk8xlJKfKT86MUqHhJytMi5MJ0G1Aka5JpG2iZdxhXh_VE2xAvD4z1Emz1ER-XpY1q2FI9VOzLo=\n",
            "12. YouTube, 청년맹호, 부산 서면 포장마차거리, - https://vertexaisearch.cloud.google.com/grounding-api-redirect/AUZIYQETwGLpJBsAKdfpIKnY3kH4POE0hvoIIA4XFivPi-VhnYIHhYLh4MXyPwzsXh091od5hjl34w4DOvg-eZ2RrQwVAv8HAAN-6yRqmQujQTBgoiVvrC8exh6OZg8v3myf5gXymRGJ9w==\n",
            "13. YouTube, 맛있겠다 Yummy, 현지인 추천 숨겨진 돼지국밥 맛집 [부산 다락국밥], - https://vertexaisearch.cloud.google.com/grounding-api-redirect/AUZIYQENVZyvmL22iSylNdb_wRgJJZ-C0hZ-AwqPI4RKPu9tyYGKw5UcXbuBZ-uyCWWfBzBPniTPJJYj3xSySFFS37pZkDKPB_oHw3xlbjQOLOh5fcMTvP4D3dyWPeheUvaSoTWXFCL_Vg==\n",
            "14. YouTube, 한방TV, [부산여행] 가성비 지리는 다대포 포장마차 현지인 맛집! 부산비오는날 가볼만한곳 추천, - https://vertexaisearch.cloud.google.com/grounding-api-redirect/AUZIYQFltNwzkYecy0M4VRCpIFqX0JaBMDeOD_bGnSVVeTiaV4u1GTkbzhy0vQK1GyQeztRcd60zxZFllef4EHivXtjrUGVU2rHghaLIkubbhEgQHiEXyAbOL6xr2ZReOG6lzQPQLEtS1w==\n",
            "\n",
            "연구 보고서가 완성되었습니다.\n",
            "\n",
            "보고서 내용에 대해 궁금한 점이 있으시거나, 다른 관련 주제에 대한 추가 연구를 원하시면 언제든지 말씀해 주세요!\n",
            "\n",
            "------------------------------\n",
            "<<< Final Report:\n",
            "## 우중충한 날씨, 부산지역 사람들이 즐겨 찾는 메뉴 연구 보고서\n",
            "\n",
            "### 1. Executive Summary\n",
            "\n",
            "우중충한 날씨에 부산지역 주민들은 따뜻하고 편안함을 주는 음식을 선호하며, 특히 '전'과 '막걸리'의 조합이 고전적인 인기를 누립니다. 신선한 해산물을 활용한 국물 요리와 돼지국밥 같은 든든한 식사류도 사랑받으며, 포장마차와 같은 현지 식당 및 배달 서비스를 통해 이러한 메뉴를 즐기는 경향이 두드러집니다.\n",
            "\n",
            "### 2. Key Findings\n",
            "\n",
            "*   **전(Korean Pancakes)과 막걸리(Rice Wine)의 고전적 인기:** 비 오는 날 부산에서 가장 추천되는 조합은 '전'과 '막걸리'입니다. 범일빈대떡, 소문난동래파전 같은 전문점이 특히 유명하며, 비 오는 날의 분위기와 잘 어울려 많은 사람이 찾습니다 (아던트뉴스, 2024; 훈똘뱅이, 2021).\n",
            "*   **따뜻한 해산물 국물 요리 및 든든한 탕류 선호:** 부산의 풍부한 해산물을 활용한 따뜻하고 시원한 국물 요리가 우중충한 날씨에 큰 인기를 얻습니다. 조개, 게, 문어, 새우 등 다양한 해산물이 들어간 '해물탕'은 몸을 덥히고 기운을 북돋아주는 음식으로 각광받으며, '해물 칼국수'와 '돼지국밥' 역시 따뜻하고 든든한 한 끼 식사로 선호됩니다 (SBSstory, 2022; 맛상무, 2021; Korean Food Yummy, 2019).\n",
            "*   **현지인들의 포장마차 및 동네 맛집 방문:** 부산 현지인들은 비 오는 날 서면 포장마차 거리나 자갈치 시장 포장마차 골목을 찾아 '꼼장어' 등 다양한 안주와 신선한 해산물을 즐깁니다. 용호동의 '다락국밥'처럼 합리적인 가격의 동네 국밥집도 현지인들에게 인기 있는 선택지입니다 (택제이, 2023; Sulpoleon, 2021; 맛있겠다 Yummy, 2024).\n",
            "*   **다양한 배달 옵션 활용:** 이러한 인기 메뉴들은 식당 방문 외에도 배달 서비스를 통해 쉽게 접할 수 있어, 집에서 편안하게 즐기려는 수요도 높습니다 (청년맹호, 2023; 한방TV, 2020).\n",
            "\n",
            "### 3. Analysis\n",
            "\n",
            "부산 사람들의 우중충한 날씨 메뉴 선택은 따뜻함, 편안함, 그리고 부산의 지역적 특색을 반영합니다. '전'과 '막걸리'는 비 오는 날의 정취를 더하는 심리적 위안을 제공하며, 신선한 해산물을 활용한 국물 요리들은 차가운 날씨에 몸을 녹이고 활력을 불어넣는 역할을 합니다. 또한, 포장마차나 동네 식당에서의 식사는 단순한 끼니를 넘어 지역 문화와 공동체적 경험을 공유하는 중요한 수단으로 작용합니다.\n",
            "\n",
            "### 4. Sources\n",
            "\n",
            "1.  아던트뉴스, 부산 서면 비오는날 맛집 BEST 10, - https://vertexaisearch.cloud.google.com/grounding-api-redirect/AUZIYQEi0VDayiJVmmo70bzfgI-UftI5CycCqMVEXGh45emYMaQH41ucXyXVRdVpLR1Fs5csgMClrczj8qQL36exmpjuzbwmU5hkUJvs1E_rBaj5vOCShqqlByAAsWr9O8N3IcDhNYMcjVq_b7_zXmebo5ObBDI0gWm2yQ==\n",
            "2.  YouTube, 훈똘뱅이, 비오는날 막걸리에 파전! 부산 해운대 파전 맛집!, - https://vertexaisearch.cloud.google.com/grounding-api-redirect/AUZIYQEWp9m5bWCjvllcWOb87Y7-CVaP_1I6ymu6NJYdAoC_rEcuVSKtH_qgiTL5TmQT3pgeR2u1kc_spD-xR-YjGYOn4RlHMsgKD8CAm7cAkjKC5J2duQjqkyJRSDr8Ze6p-HOrdZQyw==\n",
            "3.  네이버 포스트, 부산 비 오는 날 추천하는 '부산 맛집' 리스트, - https://vertexaisearch.cloud.google.com/grounding-api-redirect/AUZIYQEE8b01eSERH8O_6x5C0JVO02XCBGe47iDu_PRmrRn2NAt_wVRRRrisFacJGicAz2fJNtI_zcEVrDialUu269ZWlijN-IfZAQ0xA9_3EDavQdanKnfMcbd8yY22Gr1pZ1pNCtFznsCv6Y4qo2_FlvJzT6CGj76PRCSDM4jazOdNwD5IylVdxTlNH8s8CQTPmFD1aHUGqq6v9Wn9_aG3Sd9SrA92WpNCfOJEXI0fbdnJyHHpSZGb9oCTy1MuMBnHZ-7D4Lz6gPLxfIADZBp_mmf77b-YuD0ptXKh6VndOc62yVMC-XU=\n",
            "4.  다이닝코드, 부산서면 비오는날 맛집 Top100, - https://vertexaisearch.cloud.google.com/grounding-api-redirect/AUZIYQHWOaEEIJoH0sdW-dG7rjRyVwJG9F-m2QQvo_JsRLQk8Z17zLAlkiRYG-7g2Si0c2-4ewZ_Wwlbclx1SH0twgxA6WatSzBo_BqA3hge420bneEGWtKsV6k_IX4MvxJs5xZL4-25g3YkKtEoVxieDW6ssoGo6IHgBFdlEkDEYx2O1j2U0GYwOT61FKsb2P5komNSlZ8Srx3iq_Q0dT0e1bq5INagBAeK3ddhYabvU7I=\n",
            "5.  YouTube, SBSstory, 우중충한 날엔 이만한 게 없지👍 칼칼한 국물에 술 한 잔 [다시 보는 해물찜&탕 맛집], - https://vertexaisearch.cloud.google.com/grounding-api-redirect/AUZIYQF3K_nHir1pvDxQGy1pnx_JWMOHobeNdfqfT6EVojF34U2jftS61mx0c4c-3AkvgTu9C-kMjtwRY2AhCCrjHhPWgrCHoKCrT_RtAE8Xr5BF7t1iFiVG19Ufbr9Q1YCNqJqeTU4uTw==\n",
            "6.  YouTube, SBSstory, 쌀쌀한 날씨에 딱 어울리는 칼칼하고 시원한 국물 요리! [해물탕&해물찜 맛집 다시 보기], - https://vertexaisearch.cloud.google.com/grounding-api-redirect/AUZIYQF9T0x2iE7KuNrgozJV0UNUkVouBu-8orid3tIQdIPnyWWG6M37EENY7CGbDmwv2V7yV9Zzrws5iwwD-1OcgYivTEAp_y2PRilrF3R0GMnJP1lNsEKdEcyNQ45FvFTn0X2WdvNduA==\n",
            "7.  YouTube, 맛상무, 부산 서면 최고 맛집으로 손꼽히는 해물칼국수집! #해물칼국수 #칼국수, - https://vertexaisearch.cloud.google.com/grounding-api-redirect/AUZIYQEnCH67IptVXPBoblhglSOy2nMGCOsDsjNCiX-1vQnOPGooHuHGenqVl30U2N_Uo-RPMOxIE9G1WR3LahZjyCubGPN6ZGUh1gECcH0oaCbd3HW9i6Yp3b87aCTdhu-6VUmH9v-MWg==\n",
            "8.  YouTube, Korean Food Yummy, [Eng Sub] 부산 돼지국밥! Pork and Rice Soup is very popular in Busan, South Korea. - https://vertexaisearch.cloud.google.com/grounding-api-redirect/AUZIYQGclaLF4o0c0azFXFq5ffTOeHN906EBP9akx3Gp3xLnAPKLGaFLoHW5HB0-TqpK-4uop6Bihv5SRZXKB3PMKdIHOi8VV20xB4lfSEGRXmtEHb-kLZDJGQ3bd_hEaAMoSKsoGLaBTw==\n",
            "9.  YouTube, 택제이, 부산 영도 현지인만 아는 포차 다 알려드립니다! 사장님 여기 해물라면 하나 주세요! [택제이 부산여행], - https://vertexaisearch.cloud.google.com/grounding-api-redirect/AUZIYQH8IQL1WRN9SUE0w9o1yXyPpMKr6P8Ga2KVKLCWc8HtezHIxrqxTa81SWfwy96NdORsFbra1E35tUBAiJrchkUk8ZjhW7HMAIZH92qn4Gtz2rIu-Ri3TpOzzM3AWy6Lel5ofUNQyw==\n",
            "10. YouTube, Sulpoleon, 부산 여행 왔다가 현지인에게 속아 버린 부산 영도 포장마차 찐 로컬맛집, - https://vertexaisearch.cloud.google.com/grounding-api-redirect/AUZIYQEuI8on_WZ7Vu7KNW5IANNQDnrl3Ym9e85pJqfhmebowukdxAZONjlGEBB35lD_FYv4YWk2Eq3trX8ORwNXh3EWy3zYyk9DW4VxHIjcBepLVDFkAN0tObjXLDYiYMhgVq_39KnTDg==\n",
            "11. 다이닝코드, 부산 포장마차 맛집 Top100, - https://vertexaisearch.cloud.google.com/grounding-api-redirect/AUZIYQElANMdJ0LOj_TE-l15bYC08l6ZF4RtoTz9XtqEWm2_GkCKYhKxZ6jrZvZb_S4wqJm2kXaeIDORXOLq77kpeY1prAjErZY8-uMzabrx2s22wMSkfXASF_J4nVyc10snxGi7w1Ngsk8xlJKfKT86MUqHhJytMi5MJ0G1Aka5JpG2iZdxhXh_VE2xAvD4z1Emz1ER-XpY1q2FI9VOzLo=\n",
            "12. YouTube, 청년맹호, 부산 서면 포장마차거리, - https://vertexaisearch.cloud.google.com/grounding-api-redirect/AUZIYQETwGLpJBsAKdfpIKnY3kH4POE0hvoIIA4XFivPi-VhnYIHhYLh4MXyPwzsXh091od5hjl34w4DOvg-eZ2RrQwVAv8HAAN-6yRqmQujQTBgoiVvrC8exh6OZg8v3myf5gXymRGJ9w==\n",
            "13. YouTube, 맛있겠다 Yummy, 현지인 추천 숨겨진 돼지국밥 맛집 [부산 다락국밥], - https://vertexaisearch.cloud.google.com/grounding-api-redirect/AUZIYQENVZyvmL22iSylNdb_wRgJJZ-C0hZ-AwqPI4RKPu9tyYGKw5UcXbuBZ-uyCWWfBzBPniTPJJYj3xSySFFS37pZkDKPB_oHw3xlbjQOLOh5fcMTvP4D9dyWPeheUvaSoTWXFCL_Vg==\n",
            "14. YouTube, 한방TV, [부산여행] 가성비 지리는 다대포 포장마차 현지인 맛집! 부산비오는날 가볼만한곳 추천, - https://vertexaisearch.cloud.google.com/grounding-api-redirect/AUZIYQFltNwzkYecy0M4VRCpIFqX0JaBMDeOD_bGnSVVeTiaV4u1GTkbzhy0vQK1GyQeztRcd60zxZFllef4EHivXtjrUGVU2rHghaLIkubbhEgQHiEXyAbOL6xr2ZReOG6lzQPQLEtS1w==\n"
          ]
        }
      ]
    }
  ]
}